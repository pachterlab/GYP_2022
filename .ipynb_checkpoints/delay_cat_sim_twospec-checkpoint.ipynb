{
 "cells": [
  {
   "cell_type": "markdown",
   "metadata": {
    "colab_type": "text",
    "id": "view-in-github"
   },
   "source": [
    "<a href=\"https://colab.research.google.com/github/pachterlab/GYP_2022/blob/dev/delay_cat_sim_twospec.ipynb\" target=\"_parent\"><img src=\"https://colab.research.google.com/assets/colab-badge.svg\" alt=\"Open In Colab\"/></a>"
   ]
  },
  {
   "cell_type": "code",
   "execution_count": 1,
   "metadata": {
    "id": "R8nM8YPJyDh0"
   },
   "outputs": [],
   "source": [
    "import numpy as np\n",
    "import matplotlib.pyplot as plt\n",
    "import scipy\n"
   ]
  },
  {
   "cell_type": "code",
   "execution_count": 2,
   "metadata": {
    "id": "BzZnHK7xyJWk"
   },
   "outputs": [],
   "source": [
    "tau=1 #residence time\n",
    "cat_rate = 3\n",
    "gamma = 1.4\n",
    "T = 2\n",
    "nT = 100\n",
    "t = np.linspace(0,T,nT)"
   ]
  },
  {
   "cell_type": "code",
   "execution_count": 3,
   "metadata": {
    "id": "8xEfyMd9S6l3"
   },
   "outputs": [],
   "source": [
    "nC = 5000\n",
    "X = np.zeros((nT,nC,2))\n",
    "for c_ in range(nC):\n",
    "    arrival_time_queue_1 = [0]\n",
    "    arrival_time_storage_1 = [0]\n",
    "    arrival_time_queue_2 = []\n",
    "    arrival_time_storage_2 = []\n",
    "\n",
    "    while arrival_time_queue_1:\n",
    "        arrival_of_x1 = arrival_time_queue_1.pop()\n",
    "        dt = tau\n",
    "        generated_molecule_num = np.random.poisson(dt*cat_rate)\n",
    "        arrival_times_x2 = np.random.uniform(0,dt,generated_molecule_num) + arrival_of_x1\n",
    "        arrival_time_queue_2 += list(arrival_times_x2)\n",
    "        arrival_time_storage_2 += list(arrival_times_x2)\n",
    "    arrival_time_storage_1 = np.asarray(arrival_time_storage_1)\n",
    "    arrival_time_storage_2 = np.asarray(arrival_time_storage_2)\n",
    "    exit_time_storage_1 = arrival_time_storage_1 + tau\n",
    "    deg_times = np.random.exponential(1/gamma,arrival_time_storage_2.shape)\n",
    "    exit_time_storage_2 = arrival_time_storage_2 + deg_times\n",
    "    for tind,t_ in enumerate(t):\n",
    "        extant_at_t_1 = (((exit_time_storage_1)>t_)&(arrival_time_storage_1<=t_)).sum()\n",
    "        extant_at_t_2 = (((exit_time_storage_2)>t_)&(arrival_time_storage_2<=t_)).sum()\n",
    "        X[tind,c_,0] = extant_at_t_1\n",
    "        X[tind,c_,1] = extant_at_t_2"
   ]
  },
  {
   "cell_type": "code",
   "execution_count": 4,
   "metadata": {
    "id": "m093n9_RS6n5"
   },
   "outputs": [],
   "source": [
    "def meanspec(t):\n",
    "    y_ = np.zeros_like(t)\n",
    "    f = t<tau\n",
    "    y_[f] = 1\n",
    "    y_[~f] = np.exp(-gamma*(t[~f]-tau))\n",
    "    y_ -= np.exp(-gamma*t)\n",
    "    y_ *= cat_rate/gamma\n",
    "    return y_\n"
   ]
  },
  {
   "cell_type": "code",
   "execution_count": 5,
   "metadata": {
    "colab": {
     "base_uri": "https://localhost:8080/",
     "height": 447
    },
    "id": "lwiAkmhpKGPn",
    "outputId": "b1e77586-4da6-480b-8fd7-16ba31ebbd18"
   },
   "outputs": [
    {
     "data": {
      "text/plain": [
       "[<matplotlib.lines.Line2D at 0x7f25a4d36c10>]"
      ]
     },
     "execution_count": 5,
     "metadata": {},
     "output_type": "execute_result"
    },
    {
     "data": {
      "image/png": "[encoded data removed]",
      "text/plain": [
       "<Figure size 432x288 with 1 Axes>"
      ]
     },
     "metadata": {
      "needs_background": "light"
     },
     "output_type": "display_data"
    }
   ],
   "source": [
    "plt.plot(t,X.mean(1),color='k')\n",
    "plt.plot(t,X.var(1),color='r')\n",
    "y = meanspec(t)\n",
    "plt.plot(t,y,color='g')"
   ]
  },
  {
   "cell_type": "code",
   "execution_count": 7,
   "metadata": {},
   "outputs": [],
   "source": [
    "from scipy import stats"
   ]
  },
  {
   "cell_type": "code",
   "execution_count": 8,
   "metadata": {
    "colab": {
     "base_uri": "https://localhost:8080/",
     "height": 465
    },
    "id": "I7I_tHXmJunb",
    "outputId": "4dd5eaff-27c2-4239-a016-4863edbc1054"
   },
   "outputs": [
    {
     "name": "stdout",
     "output_type": "stream",
     "text": [
      "0.4040404040404041\n"
     ]
    },
    {
     "data": {
      "text/plain": [
       "[<matplotlib.lines.Line2D at 0x7f2500c923a0>]"
      ]
     },
     "execution_count": 8,
     "metadata": {},
     "output_type": "execute_result"
    },
    {
     "data": {
      "image/png": "[encoded data removed]",
      "text/plain": [
       "<Figure size 432x288 with 1 Axes>"
      ]
     },
     "metadata": {
      "needs_background": "light"
     },
     "output_type": "display_data"
    }
   ],
   "source": [
    "tind = 20\n",
    "print(t[tind])\n",
    "bins = np.arange(X[tind,:,1].max()+2)-0.5\n",
    "plt.hist(X[tind,:,1],bins,facecolor='lightgray',density=True)\n",
    "x = np.arange(X[tind,:,1].max()+2)\n",
    "P = scipy.stats.poisson.pmf(x,y[tind])\n",
    "plt.plot(x,P)"
   ]
  },
  {
   "cell_type": "code",
   "execution_count": 9,
   "metadata": {
    "id": "vIFHca9TcJ1m"
   },
   "outputs": [],
   "source": [
    "k = 1.2\n",
    "tau=1 #residence time\n",
    "cat_rate = 3\n",
    "gamma = 1.4\n",
    "# t2 = 1\n",
    "T = 2\n",
    "nT = 100\n",
    "t = np.linspace(0,T,nT)"
   ]
  },
  {
   "cell_type": "code",
   "execution_count": 10,
   "metadata": {
    "id": "3U5C67WvzGAT"
   },
   "outputs": [],
   "source": [
    "nC = 10000\n",
    "X = np.zeros((nT,nC,2))\n",
    "for c_ in range(nC):\n",
    "    generated_x1_num = np.random.poisson(T*k)\n",
    "    arrival_times_x1 =  np.random.uniform(0,T,generated_x1_num)\n",
    "    arrival_time_queue_1 = list(arrival_times_x1)\n",
    "    arrival_time_storage_1 = arrival_time_queue_1.copy()\n",
    "    arrival_time_queue_2 = []\n",
    "    arrival_time_storage_2 = []\n",
    "\n",
    "    while arrival_time_queue_1:\n",
    "        arrival_of_x1 = arrival_time_queue_1.pop()\n",
    "        dt = tau\n",
    "        generated_molecule_num = np.random.poisson(dt*cat_rate)\n",
    "        arrival_times_x2 = np.random.uniform(0,dt,generated_molecule_num) + arrival_of_x1\n",
    "        arrival_time_queue_2 += list(arrival_times_x2)\n",
    "        arrival_time_storage_2 += list(arrival_times_x2)\n",
    "    arrival_time_storage_1 = np.asarray(arrival_time_storage_1)\n",
    "    arrival_time_storage_2 = np.asarray(arrival_time_storage_2)\n",
    "    exit_time_storage_1 = arrival_time_storage_1 + tau\n",
    "    deg_times = np.random.exponential(1/gamma,arrival_time_storage_2.shape)\n",
    "    exit_time_storage_2 = arrival_time_storage_2 + deg_times\n",
    "    for tind,t_ in enumerate(t):\n",
    "        extant_at_t_1 = (((exit_time_storage_1)>t_)&(arrival_time_storage_1<=t_)).sum()\n",
    "        extant_at_t_2 = (((exit_time_storage_2)>t_)&(arrival_time_storage_2<=t_)).sum()\n",
    "        X[tind,c_,0] = extant_at_t_1\n",
    "        X[tind,c_,1] = extant_at_t_2"
   ]
  },
  {
   "cell_type": "code",
   "execution_count": 11,
   "metadata": {
    "colab": {
     "base_uri": "https://localhost:8080/",
     "height": 465
    },
    "id": "OiOC0puLzGc0",
    "outputId": "41d22ae3-17ac-4aa0-85df-d6908707e5cb"
   },
   "outputs": [
    {
     "data": {
      "text/plain": [
       "[<matplotlib.lines.Line2D at 0x7f25a5556730>,\n",
       " <matplotlib.lines.Line2D at 0x7f25a5556760>]"
      ]
     },
     "execution_count": 11,
     "metadata": {},
     "output_type": "execute_result"
    },
    {
     "data": {
      "image/png": "[encoded data removed]",
      "text/plain": [
       "<Figure size 432x288 with 1 Axes>"
      ]
     },
     "metadata": {
      "needs_background": "light"
     },
     "output_type": "display_data"
    }
   ],
   "source": [
    "plt.plot(t,X.mean(1),color='k')\n"
   ]
  },
  {
   "cell_type": "code",
   "execution_count": 12,
   "metadata": {
    "id": "VXRnMVzwekhB"
   },
   "outputs": [],
   "source": [
    "\n",
    "import scipy\n",
    "from scipy import integrate\n",
    "\n",
    "from scipy.fft import irfftn,ifftn\n",
    "def eval_model_pss(p, limits, T):\n",
    "    k, tau, q, gamma = p\n",
    "\n",
    "    u = []\n",
    "    mx = np.copy(limits)\n",
    "    # mx[-1] = mx[-1] // 2 + 1\n",
    "    for i in range(len(mx)):\n",
    "        l = np.arange(mx[i])\n",
    "        u_ = np.exp(-2j * np.pi * l / limits[i]) - 1\n",
    "        u.append(u_)\n",
    "    g = np.meshgrid(*[u_ for u_ in u], indexing=\"ij\")\n",
    "    for i in range(len(mx)):\n",
    "        g[i] = g[i].flatten()\n",
    "    g = np.asarray(g,dtype=np.complex128)[:, :, None]\n",
    "    gf = eval_model_pgf(p, g, T)\n",
    "    gf = np.exp(gf)\n",
    "    gf = gf.reshape(tuple(mx))\n",
    "    Pss = ifftn(gf)\n",
    "\n",
    "    Pss = Pss.squeeze()\n",
    "    return Pss\n",
    "\n",
    "def eval_model_pgf(p, g, T):\n",
    "    k, tau, q, gamma = p\n",
    "    gf = np.zeros_like(g[0])\n",
    "    for ind in range(g.shape[1]):\n",
    "        g_ = g[:,ind,0]\n",
    "        fun = lambda s_: intfun(s_, g_, k, tau, q, gamma)\n",
    "        gf[ind] = scipy.integrate.fixed_quad(fun, 0, T, n=60)[0]\n",
    "    return gf\n",
    "\n",
    "def intfun(s_, g_, k, tau, q, gamma):\n",
    "    U = np.zeros_like(s_).astype(np.complex128)\n",
    "    f = s_<tau\n",
    "    U[f] = np.exp(g_[1]*q/gamma*(1-np.exp(-gamma*s_[f])))\n",
    "    U[~f] = np.exp(g_[1]*q/gamma*(np.exp(-gamma*(s_[~f]-tau))-np.exp(-gamma*s_[~f])))\n",
    "    U[f] *= (g_[0]+1)\n",
    "    U-=1\n",
    "    return U*k"
   ]
  },
  {
   "cell_type": "code",
   "execution_count": 13,
   "metadata": {
    "colab": {
     "base_uri": "https://localhost:8080/",
     "height": 762
    },
    "id": "mqtaRFAjb6z6",
    "outputId": "83c62184-f422-497c-93bb-88161452911e"
   },
   "outputs": [
    {
     "name": "stderr",
     "output_type": "stream",
     "text": [
      "/home/ggorin/miniconda3/lib/python3.9/site-packages/matplotlib/cbook/__init__.py:1369: ComplexWarning: Casting complex values to real discards the imaginary part\n",
      "  return np.asarray(x, float)\n"
     ]
    },
    {
     "data": {
      "image/png": "[encoded data removed]",
      "text/plain": [
       "<Figure size 504x504 with 12 Axes>"
      ]
     },
     "metadata": {
      "needs_background": "light"
     },
     "output_type": "display_data"
    }
   ],
   "source": [
    "p = [k,tau,cat_rate,gamma]\n",
    "t_pts = [20,40,50,60,80,70]\n",
    "fig1,ax1 = plt.subplots(len(t_pts),2,figsize=(7,7))\n",
    "for tind,t_pt in enumerate(t_pts):\n",
    "    ax1[tind,0].set_ylabel('t = {:.2f}'.format(t[t_pt]))\n",
    "    for species in range(2):\n",
    "        bins = np.arange(X[t_pt,:,species].max()+3)-0.5\n",
    "        ax1[tind,species].hist(X[t_pt,:,species],bins,color='lightgray',density=True)\n",
    "        limits = np.asarray([1,1])\n",
    "        limits[species] = X[t_pt,:,species].max()+30\n",
    "        limits = limits.astype(int)\n",
    "        P = eval_model_pss(p,limits,t[t_pt]).squeeze()\n",
    "        # print(P.sum())\n",
    "        P = P[:-30]\n",
    "        # if species==1:\n",
    "        #     print(P)\n",
    "        ax1[tind,species].plot(P,'r--')\n",
    "    limits = (X[t_pt,:,:].max(0)+30).astype(int)\n",
    "ax1[len(t_pts)-1,0].set_xlabel(r'$\\mathcal{X}_1$ copy number')\n",
    "ax1[len(t_pts)-1,1].set_xlabel(r'$\\mathcal{X}_2$ copy number')\n",
    "fig1.tight_layout()\n",
    "plt.savefig('cat.png',dpi=450)"
   ]
  },
  {
   "cell_type": "code",
   "execution_count": null,
   "metadata": {
    "id": "mrEtFpLy8VW8"
   },
   "outputs": [],
   "source": []
  },
  {
   "cell_type": "code",
   "execution_count": 14,
   "metadata": {
    "colab": {
     "base_uri": "https://localhost:8080/"
    },
    "id": "oR0UgOGDthMY",
    "outputId": "a85091a7-1c3e-49c5-9e66-ad9db81e19f5"
   },
   "outputs": [
    {
     "name": "stderr",
     "output_type": "stream",
     "text": [
      "/home/ggorin/miniconda3/lib/python3.9/site-packages/numpy/lib/function_base.py:2829: RuntimeWarning: invalid value encountered in true_divide\n",
      "  c /= stddev[:, None]\n"
     ]
    }
   ],
   "source": [
    "corrs = np.asarray([np.corrcoef(x_[:,0],x_[:,1])[0,1] for x_ in X])"
   ]
  },
  {
   "cell_type": "code",
   "execution_count": 15,
   "metadata": {
    "colab": {
     "base_uri": "https://localhost:8080/",
     "height": 451
    },
    "id": "3iSib8sstr2u",
    "outputId": "448bcef2-0954-4b58-c47d-8a7fe9e45121"
   },
   "outputs": [
    {
     "data": {
      "text/plain": [
       "[<matplotlib.lines.Line2D at 0x7f24ffc4afa0>]"
      ]
     },
     "execution_count": 15,
     "metadata": {},
     "output_type": "execute_result"
    },
    {
     "data": {
      "image/png": "[encoded data removed]",
      "text/plain": [
       "<Figure size 432x288 with 1 Axes>"
      ]
     },
     "metadata": {
      "needs_background": "light"
     },
     "output_type": "display_data"
    }
   ],
   "source": [
    "plt.plot(t,corrs)"
   ]
  },
  {
   "cell_type": "code",
   "execution_count": 16,
   "metadata": {
    "colab": {
     "base_uri": "https://localhost:8080/"
    },
    "id": "9NBMbzwJZQaB",
    "outputId": "16be56ba-0a8c-4548-a620-e1307dedf286"
   },
   "outputs": [
    {
     "name": "stderr",
     "output_type": "stream",
     "text": [
      "/tmp/ipykernel_2219499/1956376342.py:14: RuntimeWarning: invalid value encountered in double_scalars\n",
      "  corrs_analytical[t_pt] = cov/corr_denom\n"
     ]
    }
   ],
   "source": [
    "corrs_analytical = np.zeros(nT)\n",
    "for t_pt in range(nT):\n",
    "    limits = (X[t_pt,:,:].max(0)+50).astype(int)\n",
    "\n",
    "    P = eval_model_pss(p,limits,t[t_pt]).squeeze()\n",
    "    P = np.abs(P)/np.sum(np.abs(P))\n",
    "    X_,Y_ = np.meshgrid(np.arange(P.shape[0]),np.arange(P.shape[1]),indexing='ij')\n",
    "    mean_1 = (X_*P).sum()\n",
    "    mean_2 = (Y_*P).sum()\n",
    "    cov = (X_*Y_*P).sum()-mean_1*mean_2\n",
    "    var_1 = ((X_**2)*P).sum()-mean_1**2\n",
    "    var_2 = ((Y_**2)*P).sum()-mean_2**2\n",
    "    corr_denom = np.sqrt(var_1)*np.sqrt(var_2)\n",
    "    corrs_analytical[t_pt] = cov/corr_denom"
   ]
  },
  {
   "cell_type": "code",
   "execution_count": 17,
   "metadata": {
    "id": "sYVkbao1Zift"
   },
   "outputs": [
    {
     "data": {
      "text/plain": [
       "Text(0, 0.5, 'pearson correlation')"
      ]
     },
     "execution_count": 17,
     "metadata": {},
     "output_type": "execute_result"
    },
    {
     "data": {
      "image/png": "[encoded data removed]",
      "text/plain": [
       "<Figure size 432x288 with 1 Axes>"
      ]
     },
     "metadata": {
      "needs_background": "light"
     },
     "output_type": "display_data"
    }
   ],
   "source": [
    "plt.plot(t,corrs,'k',label='sim correlations')\n",
    "plt.plot(t,corrs_analytical,label='computed directly from pmf')\n",
    "plt.legend()\n",
    "plt.xlabel('time')\n",
    "plt.ylabel('pearson correlation')"
   ]
  },
  {
   "cell_type": "code",
   "execution_count": 18,
   "metadata": {
    "id": "0sC55qDEzZR2"
   },
   "outputs": [],
   "source": [
    "limits = (X[t_pt,:,:].max(0)+30).astype(int)\n",
    "P = eval_model_pss(p,limits,t[t_pt]).squeeze()"
   ]
  },
  {
   "cell_type": "code",
   "execution_count": 19,
   "metadata": {
    "id": "IkhMuGfo1NHS"
   },
   "outputs": [],
   "source": [
    "# P.sum()"
   ]
  },
  {
   "cell_type": "code",
   "execution_count": 20,
   "metadata": {
    "id": "r_AHnbpvzo_e"
   },
   "outputs": [
    {
     "data": {
      "text/plain": [
       "array([36, 46])"
      ]
     },
     "execution_count": 20,
     "metadata": {},
     "output_type": "execute_result"
    }
   ],
   "source": [
    "limits"
   ]
  },
  {
   "cell_type": "code",
   "execution_count": 21,
   "metadata": {
    "id": "tgdSaCMfuar7"
   },
   "outputs": [],
   "source": [
    "P = np.abs(P)/np.sum(np.abs(P))"
   ]
  },
  {
   "cell_type": "code",
   "execution_count": 22,
   "metadata": {
    "id": "JPRcNBXNdVw8"
   },
   "outputs": [
    {
     "data": {
      "text/plain": [
       "0.49292213679922614"
      ]
     },
     "execution_count": 22,
     "metadata": {},
     "output_type": "execute_result"
    }
   ],
   "source": [
    "corrs[t_pt]"
   ]
  },
  {
   "cell_type": "code",
   "execution_count": 23,
   "metadata": {
    "id": "6o_JacPAug6X"
   },
   "outputs": [],
   "source": [
    "X_,Y_ = np.meshgrid(np.arange(P.shape[0]),np.arange(P.shape[1]),indexing='ij')"
   ]
  },
  {
   "cell_type": "code",
   "execution_count": 24,
   "metadata": {
    "id": "e5nowK10uj20"
   },
   "outputs": [
    {
     "data": {
      "text/plain": [
       "(36, 46)"
      ]
     },
     "execution_count": 24,
     "metadata": {},
     "output_type": "execute_result"
    }
   ],
   "source": [
    "X_.shape"
   ]
  },
  {
   "cell_type": "code",
   "execution_count": 25,
   "metadata": {
    "id": "ezQrZWlPutiK"
   },
   "outputs": [
    {
     "data": {
      "text/plain": [
       "array([1.17101276, 4.69445404])"
      ]
     },
     "execution_count": 25,
     "metadata": {},
     "output_type": "execute_result"
    }
   ],
   "source": [
    "X[t_pt].var(0)"
   ]
  },
  {
   "cell_type": "code",
   "execution_count": 26,
   "metadata": {
    "id": "QRbxqAewzTcy"
   },
   "outputs": [
    {
     "data": {
      "text/plain": [
       "1.0"
      ]
     },
     "execution_count": 26,
     "metadata": {},
     "output_type": "execute_result"
    }
   ],
   "source": [
    "P.sum()"
   ]
  },
  {
   "cell_type": "code",
   "execution_count": 27,
   "metadata": {
    "id": "FbmlHeWCvany"
   },
   "outputs": [],
   "source": [
    "mean_1 = (X_*P).sum()\n",
    "mean_2 = (Y_*P).sum()\n",
    "cov = (X_*Y_*P).sum()-mean_1*mean_2\n",
    "var_1 = ((X_**2)*P).sum()-mean_1**2\n",
    "var_2 = ((Y_**2)*P).sum()-mean_2**2\n",
    "corr_denom = np.sqrt(var_1)*np.sqrt(var_2)"
   ]
  },
  {
   "cell_type": "code",
   "execution_count": 28,
   "metadata": {
    "id": "BA62pImmxsox"
   },
   "outputs": [
    {
     "data": {
      "text/plain": [
       "2.376248905303303"
      ]
     },
     "execution_count": 28,
     "metadata": {},
     "output_type": "execute_result"
    }
   ],
   "source": [
    "corr_denom"
   ]
  },
  {
   "cell_type": "code",
   "execution_count": 29,
   "metadata": {
    "id": "vVf-XyoVxsh0"
   },
   "outputs": [
    {
     "data": {
      "text/plain": [
       "(1.2000000000008648, 4.705465716625898)"
      ]
     },
     "execution_count": 29,
     "metadata": {},
     "output_type": "execute_result"
    }
   ],
   "source": [
    "var_1,var_2"
   ]
  },
  {
   "cell_type": "code",
   "execution_count": 30,
   "metadata": {
    "id": "kD-IPrBZv73x"
   },
   "outputs": [
    {
     "data": {
      "text/plain": [
       "0.4997487111367006"
      ]
     },
     "execution_count": 30,
     "metadata": {},
     "output_type": "execute_result"
    }
   ],
   "source": [
    "cov/corr_denom"
   ]
  },
  {
   "cell_type": "code",
   "execution_count": 31,
   "metadata": {
    "id": "AJQKQ1NCv8nC"
   },
   "outputs": [
    {
     "data": {
      "text/plain": [
       "<matplotlib.image.AxesImage at 0x7f24ffba9c10>"
      ]
     },
     "execution_count": 31,
     "metadata": {},
     "output_type": "execute_result"
    },
    {
     "data": {
      "image/png": "[encoded data removed]",
      "text/plain": [
       "<Figure size 432x288 with 1 Axes>"
      ]
     },
     "metadata": {
      "needs_background": "light"
     },
     "output_type": "display_data"
    }
   ],
   "source": [
    "\n",
    "plt.imshow(np.log(np.abs(P)),aspect='auto')"
   ]
  },
  {
   "cell_type": "code",
   "execution_count": null,
   "metadata": {
    "id": "vewl6J2szqbu"
   },
   "outputs": [],
   "source": []
  }
 ],
 "metadata": {
  "colab": {
   "authorship_tag": "ABX9TyNc9X7oN6nDBjfOnmCqa0xX",
   "include_colab_link": true,
   "provenance": []
  },
  "kernelspec": {
   "display_name": "Python 3",
   "language": "python",
   "name": "python3"
  },
  "language_info": {
   "codemirror_mode": {
    "name": "ipython",
    "version": 3
   },
   "file_extension": ".py",
   "mimetype": "text/x-python",
   "name": "python",
   "nbconvert_exporter": "python",
   "pygments_lexer": "ipython3",
   "version": "3.9.1"
  }
 },
 "nbformat": 4,
 "nbformat_minor": 1
}
