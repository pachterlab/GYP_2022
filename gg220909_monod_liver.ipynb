{
 "cells": [
  {
   "cell_type": "markdown",
   "metadata": {
    "id": "VPTqP9OGouov"
   },
   "source": [
    "# *Monod* model selection: fit to liver cell types"
   ]
  },
  {
   "cell_type": "markdown",
   "metadata": {
    "id": "d2qrzWG0_Yqm"
   },
   "source": [
    "In the current notebook, we run the *Monod* inference pipeline on two pre-clustered human liver datasets, disaggregated into pericentral, periportal, and interzonal hepatocytes, using a common set of 3,000 genes and four models (bursty, extrinsic, delayed-splicing, and delayed-efflux)."
   ]
  },
  {
   "cell_type": "markdown",
   "metadata": {},
   "source": [
    "## Metadata and prerequisites"
   ]
  },
  {
   "cell_type": "markdown",
   "metadata": {},
   "source": [
    "Define the dataset metadata and disk locations."
   ]
  },
  {
   "cell_type": "code",
   "execution_count": 1,
   "metadata": {},
   "outputs": [],
   "source": [
    "import sys\n",
    "sys.path.insert(0, '/home/ggorin/projects/monod/src/')"
   ]
  },
  {
   "cell_type": "code",
   "execution_count": 2,
   "metadata": {},
   "outputs": [],
   "source": [
    "import monod\n",
    "from monod import preprocess, extract_data, cme_toolbox, inference, analysis"
   ]
  },
  {
   "cell_type": "code",
   "execution_count": 3,
   "metadata": {
    "id": "Kx9Vkj-lXUCE"
   },
   "outputs": [],
   "source": [
    "dataset_meta = ['sc','sn']\n",
    "\n",
    "cluster_names = ['CentralHep','PortalHep','InterHep']\n",
    "dataset_names = ['liver_c72_'+x+'_'+y for x in dataset_meta for y in cluster_names]\n",
    "\n",
    "transcriptome_filepath = '../seq-cme-technoise/polyA_ref/gg_200525_genome_polyA_cum_3'\n",
    "attribute_names=[('unspliced','spliced'),'gene_name','barcode']\n",
    "\n"
   ]
  },
  {
   "cell_type": "code",
   "execution_count": 4,
   "metadata": {},
   "outputs": [],
   "source": [
    "loom_filepaths = ['/home/ggorin/count_data/loom_liver_kb/liver_c72_'+dataset_meta[0]+'.loom' ]*len(cluster_names) + \\\n",
    "                 ['/home/ggorin/count_data/loom_liver_kb/liver_c72_'+dataset_meta[1]+'.loom' ]*len(cluster_names) \n"
   ]
  },
  {
   "cell_type": "code",
   "execution_count": 5,
   "metadata": {},
   "outputs": [
    {
     "data": {
      "text/plain": [
       "['/home/ggorin/count_data/loom_liver_kb/liver_c72_sc.loom',\n",
       " '/home/ggorin/count_data/loom_liver_kb/liver_c72_sc.loom',\n",
       " '/home/ggorin/count_data/loom_liver_kb/liver_c72_sc.loom',\n",
       " '/home/ggorin/count_data/loom_liver_kb/liver_c72_sn.loom',\n",
       " '/home/ggorin/count_data/loom_liver_kb/liver_c72_sn.loom',\n",
       " '/home/ggorin/count_data/loom_liver_kb/liver_c72_sn.loom']"
      ]
     },
     "execution_count": 5,
     "metadata": {},
     "output_type": "execute_result"
    }
   ],
   "source": [
    "loom_filepaths"
   ]
  },
  {
   "cell_type": "code",
   "execution_count": 6,
   "metadata": {},
   "outputs": [],
   "source": [
    "n_datasets = len(loom_filepaths)"
   ]
  },
  {
   "cell_type": "markdown",
   "metadata": {},
   "source": [
    "## Filtering"
   ]
  },
  {
   "cell_type": "markdown",
   "metadata": {},
   "source": [
    "### Import metadata"
   ]
  },
  {
   "cell_type": "code",
   "execution_count": null,
   "metadata": {},
   "outputs": [],
   "source": [
    "import pandas as pd\n",
    "import numpy as np\n",
    "import loompy as lp\n",
    "import matplotlib.pyplot as plt\n",
    "import scipy"
   ]
  },
  {
   "cell_type": "code",
   "execution_count": 41,
   "metadata": {},
   "outputs": [],
   "source": [
    "meta_str = '/home/ggorin/datasets/liver_andrews/GSE185477_Final_Metadata.txt'\n",
    "meta = pd.read_csv(meta_str,sep='\\t')"
   ]
  },
  {
   "cell_type": "code",
   "execution_count": 13,
   "metadata": {},
   "outputs": [
    {
     "data": {
      "text/html": [
       "<div>\n",
       "<style scoped>\n",
       "    .dataframe tbody tr th:only-of-type {\n",
       "        vertical-align: middle;\n",
       "    }\n",
       "\n",
       "    .dataframe tbody tr th {\n",
       "        vertical-align: top;\n",
       "    }\n",
       "\n",
       "    .dataframe thead th {\n",
       "        text-align: right;\n",
       "    }\n",
       "</style>\n",
       "<table border=\"1\" class=\"dataframe\">\n",
       "  <thead>\n",
       "    <tr style=\"text-align: right;\">\n",
       "      <th></th>\n",
       "      <th>orig.ident</th>\n",
       "      <th>nCount_RNA</th>\n",
       "      <th>nFeature_RNA</th>\n",
       "      <th>percent.mt</th>\n",
       "      <th>cell_barcode</th>\n",
       "      <th>donor</th>\n",
       "      <th>cell_ID</th>\n",
       "      <th>S.Score</th>\n",
       "      <th>G2M.Score</th>\n",
       "      <th>Phase</th>\n",
       "      <th>sample</th>\n",
       "      <th>assay_type</th>\n",
       "      <th>Coarse_clusters</th>\n",
       "      <th>Manual_Annotation</th>\n",
       "      <th>Subcluster_Group</th>\n",
       "      <th>sub_cluster</th>\n",
       "      <th>sub_annotation</th>\n",
       "      <th>UMAP1</th>\n",
       "      <th>UMAP2</th>\n",
       "    </tr>\n",
       "  </thead>\n",
       "  <tbody>\n",
       "    <tr>\n",
       "      <th>C41_AAACCTGAGCCTTGAT</th>\n",
       "      <td>C41</td>\n",
       "      <td>428</td>\n",
       "      <td>199</td>\n",
       "      <td>32.087912</td>\n",
       "      <td>AAACCTGAGCCTTGAT</td>\n",
       "      <td>C41</td>\n",
       "      <td>C41_AAACCTGAGCCTTGAT</td>\n",
       "      <td>-0.009246</td>\n",
       "      <td>-0.016106</td>\n",
       "      <td>G1</td>\n",
       "      <td>C41</td>\n",
       "      <td>single_cell</td>\n",
       "      <td>11</td>\n",
       "      <td>InterHep</td>\n",
       "      <td>Hepatocyte</td>\n",
       "      <td>Hep_6</td>\n",
       "      <td>Hep_Unidentified</td>\n",
       "      <td>-3.321926</td>\n",
       "      <td>-6.397605</td>\n",
       "    </tr>\n",
       "    <tr>\n",
       "      <th>C41_AAACCTGAGGTCATCT</th>\n",
       "      <td>C41</td>\n",
       "      <td>275</td>\n",
       "      <td>181</td>\n",
       "      <td>19.666667</td>\n",
       "      <td>AAACCTGAGGTCATCT</td>\n",
       "      <td>C41</td>\n",
       "      <td>C41_AAACCTGAGGTCATCT</td>\n",
       "      <td>-0.018254</td>\n",
       "      <td>-0.027253</td>\n",
       "      <td>G1</td>\n",
       "      <td>C41</td>\n",
       "      <td>single_cell</td>\n",
       "      <td>10</td>\n",
       "      <td>cvLSECs</td>\n",
       "      <td>LSECs</td>\n",
       "      <td>LSEC_1</td>\n",
       "      <td>LSEC_Central Venous LSEC</td>\n",
       "      <td>14.034962</td>\n",
       "      <td>2.834506</td>\n",
       "    </tr>\n",
       "    <tr>\n",
       "      <th>C41_AAACCTGAGTCGCCGT</th>\n",
       "      <td>C41</td>\n",
       "      <td>632</td>\n",
       "      <td>264</td>\n",
       "      <td>15.703704</td>\n",
       "      <td>AAACCTGAGTCGCCGT</td>\n",
       "      <td>C41</td>\n",
       "      <td>C41_AAACCTGAGTCGCCGT</td>\n",
       "      <td>-0.010180</td>\n",
       "      <td>-0.027701</td>\n",
       "      <td>G1</td>\n",
       "      <td>C41</td>\n",
       "      <td>single_cell</td>\n",
       "      <td>13</td>\n",
       "      <td>Bcells</td>\n",
       "      <td>Bcells</td>\n",
       "      <td>Lymph_5</td>\n",
       "      <td>Lymph_Mature B cells</td>\n",
       "      <td>-1.928654</td>\n",
       "      <td>-7.027950</td>\n",
       "    </tr>\n",
       "    <tr>\n",
       "      <th>C41_AAACCTGAGTGGAGTC</th>\n",
       "      <td>C41</td>\n",
       "      <td>10508</td>\n",
       "      <td>1923</td>\n",
       "      <td>12.188988</td>\n",
       "      <td>AAACCTGAGTGGAGTC</td>\n",
       "      <td>C41</td>\n",
       "      <td>C41_AAACCTGAGTGGAGTC</td>\n",
       "      <td>0.030654</td>\n",
       "      <td>-0.030400</td>\n",
       "      <td>S</td>\n",
       "      <td>C41</td>\n",
       "      <td>single_cell</td>\n",
       "      <td>4</td>\n",
       "      <td>InterHep</td>\n",
       "      <td>Hepatocyte</td>\n",
       "      <td>Hep_4</td>\n",
       "      <td>Hep_PP2</td>\n",
       "      <td>1.582531</td>\n",
       "      <td>3.822350</td>\n",
       "    </tr>\n",
       "    <tr>\n",
       "      <th>C41_AAACCTGAGTTAACGA</th>\n",
       "      <td>C41</td>\n",
       "      <td>503</td>\n",
       "      <td>220</td>\n",
       "      <td>26.355140</td>\n",
       "      <td>AAACCTGAGTTAACGA</td>\n",
       "      <td>C41</td>\n",
       "      <td>C41_AAACCTGAGTTAACGA</td>\n",
       "      <td>-0.020764</td>\n",
       "      <td>-0.021055</td>\n",
       "      <td>G1</td>\n",
       "      <td>C41</td>\n",
       "      <td>single_cell</td>\n",
       "      <td>7</td>\n",
       "      <td>NKTcell</td>\n",
       "      <td>NKTcell</td>\n",
       "      <td>Lymph_0</td>\n",
       "      <td>Lymph_ab T cells</td>\n",
       "      <td>-2.318836</td>\n",
       "      <td>-13.029733</td>\n",
       "    </tr>\n",
       "    <tr>\n",
       "      <th>...</th>\n",
       "      <td>...</td>\n",
       "      <td>...</td>\n",
       "      <td>...</td>\n",
       "      <td>...</td>\n",
       "      <td>...</td>\n",
       "      <td>...</td>\n",
       "      <td>...</td>\n",
       "      <td>...</td>\n",
       "      <td>...</td>\n",
       "      <td>...</td>\n",
       "      <td>...</td>\n",
       "      <td>...</td>\n",
       "      <td>...</td>\n",
       "      <td>...</td>\n",
       "      <td>...</td>\n",
       "      <td>...</td>\n",
       "      <td>...</td>\n",
       "      <td>...</td>\n",
       "      <td>...</td>\n",
       "    </tr>\n",
       "    <tr>\n",
       "      <th>C72_RESEQ_TTTGTCATCCGTAGGC</th>\n",
       "      <td>C72_RESEQ</td>\n",
       "      <td>1101</td>\n",
       "      <td>520</td>\n",
       "      <td>14.613424</td>\n",
       "      <td>TTTGTCATCCGTAGGC</td>\n",
       "      <td>C72</td>\n",
       "      <td>C72_RESEQ_TTTGTCATCCGTAGGC</td>\n",
       "      <td>0.027977</td>\n",
       "      <td>-0.028536</td>\n",
       "      <td>S</td>\n",
       "      <td>C72_RESEQ</td>\n",
       "      <td>single_cell</td>\n",
       "      <td>7</td>\n",
       "      <td>NKTcell</td>\n",
       "      <td>NKTcell</td>\n",
       "      <td>Lymph_1</td>\n",
       "      <td>Lymph_ab T cells</td>\n",
       "      <td>-2.859589</td>\n",
       "      <td>-12.968415</td>\n",
       "    </tr>\n",
       "    <tr>\n",
       "      <th>C72_RESEQ_TTTGTCATCGCATGGC</th>\n",
       "      <td>C72_RESEQ</td>\n",
       "      <td>834</td>\n",
       "      <td>468</td>\n",
       "      <td>12.542373</td>\n",
       "      <td>TTTGTCATCGCATGGC</td>\n",
       "      <td>C72</td>\n",
       "      <td>C72_RESEQ_TTTGTCATCGCATGGC</td>\n",
       "      <td>-0.012619</td>\n",
       "      <td>-0.020361</td>\n",
       "      <td>G1</td>\n",
       "      <td>C72_RESEQ</td>\n",
       "      <td>single_cell</td>\n",
       "      <td>2</td>\n",
       "      <td>PortalHep</td>\n",
       "      <td>Hepatocyte</td>\n",
       "      <td>Hep_3</td>\n",
       "      <td>Hep_PP1</td>\n",
       "      <td>-3.713837</td>\n",
       "      <td>2.447927</td>\n",
       "    </tr>\n",
       "    <tr>\n",
       "      <th>C72_RESEQ_TTTGTCATCGCCTGTT</th>\n",
       "      <td>C72_RESEQ</td>\n",
       "      <td>3245</td>\n",
       "      <td>1322</td>\n",
       "      <td>8.756418</td>\n",
       "      <td>TTTGTCATCGCCTGTT</td>\n",
       "      <td>C72</td>\n",
       "      <td>C72_RESEQ_TTTGTCATCGCCTGTT</td>\n",
       "      <td>-0.041129</td>\n",
       "      <td>0.004319</td>\n",
       "      <td>G2M</td>\n",
       "      <td>C72_RESEQ</td>\n",
       "      <td>single_cell</td>\n",
       "      <td>9</td>\n",
       "      <td>cvLSECs</td>\n",
       "      <td>LSECs</td>\n",
       "      <td>LSEC_0</td>\n",
       "      <td>LSEC_Central Venous LSEC</td>\n",
       "      <td>10.940085</td>\n",
       "      <td>1.587990</td>\n",
       "    </tr>\n",
       "    <tr>\n",
       "      <th>C72_RESEQ_TTTGTCATCTGATTCT</th>\n",
       "      <td>C72_RESEQ</td>\n",
       "      <td>1651</td>\n",
       "      <td>648</td>\n",
       "      <td>31.873905</td>\n",
       "      <td>TTTGTCATCTGATTCT</td>\n",
       "      <td>C72</td>\n",
       "      <td>C72_RESEQ_TTTGTCATCTGATTCT</td>\n",
       "      <td>-0.014500</td>\n",
       "      <td>-0.024372</td>\n",
       "      <td>G1</td>\n",
       "      <td>C72_RESEQ</td>\n",
       "      <td>single_cell</td>\n",
       "      <td>0</td>\n",
       "      <td>PortalHep</td>\n",
       "      <td>Hepatocyte</td>\n",
       "      <td>Hep_4</td>\n",
       "      <td>Hep_PP2</td>\n",
       "      <td>-0.373969</td>\n",
       "      <td>5.003919</td>\n",
       "    </tr>\n",
       "    <tr>\n",
       "      <th>C72_RESEQ_TTTGTCATCTTTCCTC</th>\n",
       "      <td>C72_RESEQ</td>\n",
       "      <td>1022</td>\n",
       "      <td>471</td>\n",
       "      <td>12.371134</td>\n",
       "      <td>TTTGTCATCTTTCCTC</td>\n",
       "      <td>C72</td>\n",
       "      <td>C72_RESEQ_TTTGTCATCTTTCCTC</td>\n",
       "      <td>-0.008821</td>\n",
       "      <td>0.014429</td>\n",
       "      <td>G2M</td>\n",
       "      <td>C72_RESEQ</td>\n",
       "      <td>single_cell</td>\n",
       "      <td>2</td>\n",
       "      <td>PortalHep</td>\n",
       "      <td>Hepatocyte</td>\n",
       "      <td>Hep_2</td>\n",
       "      <td>Hep_PP1</td>\n",
       "      <td>-3.168850</td>\n",
       "      <td>2.989382</td>\n",
       "    </tr>\n",
       "  </tbody>\n",
       "</table>\n",
       "<p>73295 rows × 19 columns</p>\n",
       "</div>"
      ],
      "text/plain": [
       "                           orig.ident  nCount_RNA  nFeature_RNA  percent.mt  \\\n",
       "C41_AAACCTGAGCCTTGAT              C41         428           199   32.087912   \n",
       "C41_AAACCTGAGGTCATCT              C41         275           181   19.666667   \n",
       "C41_AAACCTGAGTCGCCGT              C41         632           264   15.703704   \n",
       "C41_AAACCTGAGTGGAGTC              C41       10508          1923   12.188988   \n",
       "C41_AAACCTGAGTTAACGA              C41         503           220   26.355140   \n",
       "...                               ...         ...           ...         ...   \n",
       "C72_RESEQ_TTTGTCATCCGTAGGC  C72_RESEQ        1101           520   14.613424   \n",
       "C72_RESEQ_TTTGTCATCGCATGGC  C72_RESEQ         834           468   12.542373   \n",
       "C72_RESEQ_TTTGTCATCGCCTGTT  C72_RESEQ        3245          1322    8.756418   \n",
       "C72_RESEQ_TTTGTCATCTGATTCT  C72_RESEQ        1651           648   31.873905   \n",
       "C72_RESEQ_TTTGTCATCTTTCCTC  C72_RESEQ        1022           471   12.371134   \n",
       "\n",
       "                                cell_barcode donor  \\\n",
       "C41_AAACCTGAGCCTTGAT        AAACCTGAGCCTTGAT   C41   \n",
       "C41_AAACCTGAGGTCATCT        AAACCTGAGGTCATCT   C41   \n",
       "C41_AAACCTGAGTCGCCGT        AAACCTGAGTCGCCGT   C41   \n",
       "C41_AAACCTGAGTGGAGTC        AAACCTGAGTGGAGTC   C41   \n",
       "C41_AAACCTGAGTTAACGA        AAACCTGAGTTAACGA   C41   \n",
       "...                                      ...   ...   \n",
       "C72_RESEQ_TTTGTCATCCGTAGGC  TTTGTCATCCGTAGGC   C72   \n",
       "C72_RESEQ_TTTGTCATCGCATGGC  TTTGTCATCGCATGGC   C72   \n",
       "C72_RESEQ_TTTGTCATCGCCTGTT  TTTGTCATCGCCTGTT   C72   \n",
       "C72_RESEQ_TTTGTCATCTGATTCT  TTTGTCATCTGATTCT   C72   \n",
       "C72_RESEQ_TTTGTCATCTTTCCTC  TTTGTCATCTTTCCTC   C72   \n",
       "\n",
       "                                               cell_ID   S.Score  G2M.Score  \\\n",
       "C41_AAACCTGAGCCTTGAT              C41_AAACCTGAGCCTTGAT -0.009246  -0.016106   \n",
       "C41_AAACCTGAGGTCATCT              C41_AAACCTGAGGTCATCT -0.018254  -0.027253   \n",
       "C41_AAACCTGAGTCGCCGT              C41_AAACCTGAGTCGCCGT -0.010180  -0.027701   \n",
       "C41_AAACCTGAGTGGAGTC              C41_AAACCTGAGTGGAGTC  0.030654  -0.030400   \n",
       "C41_AAACCTGAGTTAACGA              C41_AAACCTGAGTTAACGA -0.020764  -0.021055   \n",
       "...                                                ...       ...        ...   \n",
       "C72_RESEQ_TTTGTCATCCGTAGGC  C72_RESEQ_TTTGTCATCCGTAGGC  0.027977  -0.028536   \n",
       "C72_RESEQ_TTTGTCATCGCATGGC  C72_RESEQ_TTTGTCATCGCATGGC -0.012619  -0.020361   \n",
       "C72_RESEQ_TTTGTCATCGCCTGTT  C72_RESEQ_TTTGTCATCGCCTGTT -0.041129   0.004319   \n",
       "C72_RESEQ_TTTGTCATCTGATTCT  C72_RESEQ_TTTGTCATCTGATTCT -0.014500  -0.024372   \n",
       "C72_RESEQ_TTTGTCATCTTTCCTC  C72_RESEQ_TTTGTCATCTTTCCTC -0.008821   0.014429   \n",
       "\n",
       "                           Phase     sample   assay_type  Coarse_clusters  \\\n",
       "C41_AAACCTGAGCCTTGAT          G1        C41  single_cell               11   \n",
       "C41_AAACCTGAGGTCATCT          G1        C41  single_cell               10   \n",
       "C41_AAACCTGAGTCGCCGT          G1        C41  single_cell               13   \n",
       "C41_AAACCTGAGTGGAGTC           S        C41  single_cell                4   \n",
       "C41_AAACCTGAGTTAACGA          G1        C41  single_cell                7   \n",
       "...                          ...        ...          ...              ...   \n",
       "C72_RESEQ_TTTGTCATCCGTAGGC     S  C72_RESEQ  single_cell                7   \n",
       "C72_RESEQ_TTTGTCATCGCATGGC    G1  C72_RESEQ  single_cell                2   \n",
       "C72_RESEQ_TTTGTCATCGCCTGTT   G2M  C72_RESEQ  single_cell                9   \n",
       "C72_RESEQ_TTTGTCATCTGATTCT    G1  C72_RESEQ  single_cell                0   \n",
       "C72_RESEQ_TTTGTCATCTTTCCTC   G2M  C72_RESEQ  single_cell                2   \n",
       "\n",
       "                           Manual_Annotation Subcluster_Group sub_cluster  \\\n",
       "C41_AAACCTGAGCCTTGAT                InterHep       Hepatocyte       Hep_6   \n",
       "C41_AAACCTGAGGTCATCT                 cvLSECs            LSECs      LSEC_1   \n",
       "C41_AAACCTGAGTCGCCGT                  Bcells           Bcells     Lymph_5   \n",
       "C41_AAACCTGAGTGGAGTC                InterHep       Hepatocyte       Hep_4   \n",
       "C41_AAACCTGAGTTAACGA                 NKTcell          NKTcell     Lymph_0   \n",
       "...                                      ...              ...         ...   \n",
       "C72_RESEQ_TTTGTCATCCGTAGGC           NKTcell          NKTcell     Lymph_1   \n",
       "C72_RESEQ_TTTGTCATCGCATGGC         PortalHep       Hepatocyte       Hep_3   \n",
       "C72_RESEQ_TTTGTCATCGCCTGTT           cvLSECs            LSECs      LSEC_0   \n",
       "C72_RESEQ_TTTGTCATCTGATTCT         PortalHep       Hepatocyte       Hep_4   \n",
       "C72_RESEQ_TTTGTCATCTTTCCTC         PortalHep       Hepatocyte       Hep_2   \n",
       "\n",
       "                                      sub_annotation      UMAP1      UMAP2  \n",
       "C41_AAACCTGAGCCTTGAT                Hep_Unidentified  -3.321926  -6.397605  \n",
       "C41_AAACCTGAGGTCATCT        LSEC_Central Venous LSEC  14.034962   2.834506  \n",
       "C41_AAACCTGAGTCGCCGT            Lymph_Mature B cells  -1.928654  -7.027950  \n",
       "C41_AAACCTGAGTGGAGTC                         Hep_PP2   1.582531   3.822350  \n",
       "C41_AAACCTGAGTTAACGA                Lymph_ab T cells  -2.318836 -13.029733  \n",
       "...                                              ...        ...        ...  \n",
       "C72_RESEQ_TTTGTCATCCGTAGGC          Lymph_ab T cells  -2.859589 -12.968415  \n",
       "C72_RESEQ_TTTGTCATCGCATGGC                   Hep_PP1  -3.713837   2.447927  \n",
       "C72_RESEQ_TTTGTCATCGCCTGTT  LSEC_Central Venous LSEC  10.940085   1.587990  \n",
       "C72_RESEQ_TTTGTCATCTGATTCT                   Hep_PP2  -0.373969   5.003919  \n",
       "C72_RESEQ_TTTGTCATCTTTCCTC                   Hep_PP1  -3.168850   2.989382  \n",
       "\n",
       "[73295 rows x 19 columns]"
      ]
     },
     "execution_count": 13,
     "metadata": {},
     "output_type": "execute_result"
    }
   ],
   "source": [
    "meta"
   ]
  },
  {
   "cell_type": "code",
   "execution_count": 14,
   "metadata": {},
   "outputs": [],
   "source": [
    "spliced_layer = 'spliced'\n",
    "unspliced_layer = 'unspliced'\n",
    "gene_attr = 'gene_name'\n",
    "cell_attr = 'barcode'\n",
    "def knee_plot(S,n_cells,ax1,thr=None,viz=False):\n",
    "    umi_sum = S.sum(0)\n",
    "    umi_rank = np.argsort(umi_sum)\n",
    "    usf = np.flip(umi_sum[umi_rank])\n",
    "    if viz:\n",
    "        ax1.plot(np.arange(n_cells),usf,'k')\n",
    "        ax1.set_xlabel('Cell rank')\n",
    "        ax1.set_ylabel('UMI count+1')\n",
    "        ax1.set_yscale('log')\n",
    "    if thr is not None:\n",
    "        cf = umi_sum>thr\n",
    "        rank_ = np.argmin(np.abs(usf-thr))\n",
    "        if viz:\n",
    "            ax1.plot([0,n_cells+1],thr*np.ones(2),'r--')\n",
    "            ys = ax1.get_ylim()\n",
    "            ax1.plot(rank_*np.ones(2),ys,'r--')\n",
    "        return cf"
   ]
  },
  {
   "cell_type": "code",
   "execution_count": 55,
   "metadata": {},
   "outputs": [
    {
     "name": "stdout",
     "output_type": "stream",
     "text": [
      "/home/ggorin/count_data/loom_liver_kb/liver_c72_sc.loom\n",
      "11219\n",
      "/home/ggorin/count_data/loom_liver_kb/liver_c72_sn.loom\n",
      "9054\n"
     ]
    },
    {
     "data": {
      "image/png": "[encoded data removed]",
      "text/plain": [
       "<Figure size 576x288 with 2 Axes>"
      ]
     },
     "metadata": {
      "needs_background": "light"
     },
     "output_type": "display_data"
    }
   ],
   "source": [
    "cf = []\n",
    "thr_lb = [8e2, 2e3]\n",
    "thr_ub = [1e4, 5e4]\n",
    "\n",
    "fig1,ax1 = plt.subplots(1,2,figsize=(8,4))\n",
    "\n",
    "dataset_identifiers = ('C72_RESEQ','C72_TST')\n",
    "for k in range(len(dataset_meta)):\n",
    "    filename = loom_filepaths[len(cluster_names)*k]\n",
    "    print(filename)\n",
    "    \n",
    "    with lp.connect(filename,mode='r') as ds:\n",
    "        S = ds.layers[spliced_layer][:]\n",
    "        U = ds.layers[unspliced_layer][:]\n",
    "        gene_names = ds.ra[gene_attr]\n",
    "        bcs = ds.ca[cell_attr]\n",
    "        n_cells = S.shape[1]\n",
    "        print(len(bcs))\n",
    "        knee_plot(S+U,n_cells,ax1[k],viz=True,thr=thr_lb[k])\n",
    "        ax1[k].set_title(dataset_meta[k])\n",
    "        cf_ = ((S+U).sum(0)>thr_lb[k]) & ((S+U).sum(0)<thr_ub[k])\n",
    "                    \n",
    "        for cluster in cluster_names:\n",
    "            cf.append(np.isin(bcs,meta[(meta['sample']==dataset_identifiers[k]) \\\n",
    "                                       & (meta['Manual_Annotation']==cluster)]['cell_barcode'])\\\n",
    "                      & cf_)\n",
    "fig1.tight_layout()"
   ]
  },
  {
   "cell_type": "code",
   "execution_count": 57,
   "metadata": {},
   "outputs": [
    {
     "data": {
      "text/plain": [
       "[1567, 4421, 991, 2885, 2862, 1879]"
      ]
     },
     "execution_count": 57,
     "metadata": {},
     "output_type": "execute_result"
    }
   ],
   "source": [
    "[x.sum() for x in cf]"
   ]
  },
  {
   "cell_type": "markdown",
   "metadata": {},
   "source": [
    "## Preprocessing"
   ]
  },
  {
   "cell_type": "markdown",
   "metadata": {},
   "source": [
    "Identify the genes to fit."
   ]
  },
  {
   "cell_type": "markdown",
   "metadata": {},
   "source": [
    "Construct a batch by finding 3,000 genes which have at least moderate expression across all datasets. Visualize the set of genes (purple) that meet the expression filtering criteria."
   ]
  },
  {
   "cell_type": "code",
   "execution_count": 58,
   "metadata": {},
   "outputs": [],
   "source": [
    "import logging, sys\n",
    "logging.basicConfig(stream=sys.stdout)\n",
    "log = logging.getLogger()\n",
    "log.setLevel(logging.INFO)"
   ]
  },
  {
   "cell_type": "code",
   "execution_count": null,
   "metadata": {
    "colab": {
     "base_uri": "https://localhost:8080/",
     "height": 802
    },
    "id": "q6uC8qrYXUEP",
    "outputId": "f5346d9a-642c-478c-dfaf-650a12b00830"
   },
   "outputs": [],
   "source": [
    "dir_string,dataset_strings = monod.preprocess.construct_batch(loom_filepaths, \\\n",
    "                                             transcriptome_filepath, \\\n",
    "                                             dataset_names, \\\n",
    "                                             attribute_names=attribute_names,\\\n",
    "                                             batch_location='./fits',meta='liver_andrews',batch_id=2,\\\n",
    "                                             n_genes=3000,exp_filter_threshold=None,cf=cf)"
   ]
  },
  {
   "cell_type": "markdown",
   "metadata": {},
   "source": [
    "## Inference"
   ]
  },
  {
   "cell_type": "code",
   "execution_count": null,
   "metadata": {},
   "outputs": [],
   "source": [
    "dir_string"
   ]
  },
  {
   "cell_type": "code",
   "execution_count": null,
   "metadata": {},
   "outputs": [],
   "source": [
    "dataset_strings"
   ]
  },
  {
   "cell_type": "markdown",
   "metadata": {},
   "source": [
    "Define parameter bounds, then iterate over datasets and perform the fits."
   ]
  },
  {
   "cell_type": "code",
   "execution_count": 111,
   "metadata": {},
   "outputs": [],
   "source": [
    "phys_lb = [-2.0, -1.8, -1.8]\n",
    "phys_ub = [3.1, 3.5, 3.5]\n",
    "samp_lb = [1,1]\n",
    "samp_ub = [1,1]\n",
    "gridsize = [1,1]\n",
    "# gradient_params = {'max_iterations':5,'init_pattern':'moments','num_restarts':1}\n",
    "gradient_params = {'max_iterations':15,'init_pattern':'moments','num_restarts':5}"
   ]
  },
  {
   "cell_type": "code",
   "execution_count": null,
   "metadata": {},
   "outputs": [],
   "source": [
    "result_strings_ext = []\n",
    "for i in range(n_datasets):\n",
    "    fitmodel = monod.cme_toolbox.CMEModel('Extrinsic','None')\n",
    "    inference_parameters = monod.inference.InferenceParameters(phys_lb,phys_ub,samp_lb,samp_ub,gridsize,\\\n",
    "                dataset_strings[i],fitmodel,use_lengths = False,\n",
    "                gradient_params = gradient_params)\n",
    "    search_data = monod.extract_data.extract_data(loom_filepaths[i], transcriptome_filepath, dataset_names[i],\n",
    "                dataset_strings[i], dir_string, dataset_attr_names=attribute_names,cf=cf[i])\n",
    "    full_result_string = inference_parameters.fit_all_grid_points(1,search_data)\n",
    "    result_strings_ext.append(full_result_string)"
   ]
  },
  {
   "cell_type": "code",
   "execution_count": null,
   "metadata": {},
   "outputs": [],
   "source": [
    "for i in range(n_datasets):\n",
    "    sr = monod.analysis.load_search_results(result_strings_ext[i])\n",
    "    sd = monod.analysis.load_search_data(dir_string+'/'+dataset_names[i]+'/raw.sd')\n",
    "    sr.find_sampling_optimum()\n",
    "\n",
    "    sr.plot_gene_distributions(sd,marg='joint')\n",
    "\n",
    "    _=sr.chisquare_testing(sd)\n",
    "\n",
    "#     sr.compute_sigma(sd,num_cores=60)\n",
    "    sr.plot_param_L_dep(plot_errorbars=False,plot_fit=True)\n",
    "    sr.plot_param_marg()\n",
    "    \n",
    "    monod.analysis.make_batch_analysis_dir([sr],dir_string)\n",
    "    sr.update_on_disk()\n",
    "    "
   ]
  },
  {
   "cell_type": "code",
   "execution_count": null,
   "metadata": {},
   "outputs": [],
   "source": [
    "\n",
    "result_strings_burst = []\n",
    "for i in range(n_datasets):\n",
    "    fitmodel = monod.cme_toolbox.CMEModel('Bursty','None')\n",
    "    inference_parameters = monod.inference.InferenceParameters(phys_lb,phys_ub,samp_lb,samp_ub,gridsize,\\\n",
    "                dataset_strings[i],fitmodel,use_lengths = False,\n",
    "                gradient_params = gradient_params)\n",
    "    search_data = monod.analysis.load_search_data(dir_string+'/'+dataset_names[i]+'/raw.sd')\n",
    "    full_result_string = inference_parameters.fit_all_grid_points(1,search_data)\n",
    "    result_strings_burst.append(full_result_string)"
   ]
  },
  {
   "cell_type": "code",
   "execution_count": null,
   "metadata": {},
   "outputs": [],
   "source": [
    "for i in range(n_datasets):\n",
    "    sr = monod.analysis.load_search_results(result_strings_burst[i])\n",
    "    sd = monod.analysis.load_search_data(dir_string+'/'+dataset_names[i]+'/raw.sd')\n",
    "    sr.find_sampling_optimum()\n",
    "\n",
    "    sr.plot_gene_distributions(sd,marg='joint')\n",
    "\n",
    "    _=sr.chisquare_testing(sd)\n",
    "\n",
    "#     sr.compute_sigma(sd,num_cores=60)\n",
    "    sr.plot_param_L_dep(plot_errorbars=False,plot_fit=True)\n",
    "    sr.plot_param_marg()\n",
    "    \n",
    "    monod.analysis.make_batch_analysis_dir([sr],dir_string)\n",
    "    sr.update_on_disk()\n",
    "    "
   ]
  },
  {
   "cell_type": "code",
   "execution_count": null,
   "metadata": {},
   "outputs": [],
   "source": [
    "result_strings_delay = []\n",
    "for i in range(n_datasets):\n",
    "    fitmodel = monod.cme_toolbox.CMEModel('Delay','None')\n",
    "    inference_parameters = monod.inference.InferenceParameters(phys_lb,phys_ub,samp_lb,samp_ub,gridsize,\\\n",
    "                dataset_strings[i],fitmodel,use_lengths = False,\n",
    "                gradient_params = gradient_params)\n",
    "    search_data = monod.analysis.load_search_data(dir_string+'/'+dataset_names[i]+'/raw.sd')\n",
    "    full_result_string = inference_parameters.fit_all_grid_points(1,search_data)\n",
    "    result_strings_delay.append(full_result_string)"
   ]
  },
  {
   "cell_type": "code",
   "execution_count": null,
   "metadata": {},
   "outputs": [],
   "source": [
    "for i in range(n_datasets):\n",
    "    sr = monod.analysis.load_search_results(result_strings_delay[i])\n",
    "    sd = monod.analysis.load_search_data(dir_string+'/'+dataset_names[i]+'/raw.sd')\n",
    "    sr.find_sampling_optimum()\n",
    "\n",
    "    sr.plot_gene_distributions(sd,marg='joint')\n",
    "\n",
    "    _=sr.chisquare_testing(sd)\n",
    "\n",
    "#     sr.compute_sigma(sd,num_cores=60)\n",
    "    sr.plot_param_L_dep(plot_errorbars=False,plot_fit=True)\n",
    "    sr.plot_param_marg()\n",
    "    \n",
    "    monod.analysis.make_batch_analysis_dir([sr],dir_string)\n",
    "    sr.update_on_disk()\n",
    "    "
   ]
  },
  {
   "cell_type": "code",
   "execution_count": null,
   "metadata": {},
   "outputs": [],
   "source": [
    "result_strings_delayed_splicing = []\n",
    "for i in range(n_datasets):\n",
    "    fitmodel = monod.cme_toolbox.CMEModel('DelayedSplicing','None')\n",
    "    inference_parameters = monod.inference.InferenceParameters(phys_lb,phys_ub,samp_lb,samp_ub,gridsize,\\\n",
    "                dataset_strings[i],fitmodel,use_lengths = False,\n",
    "                gradient_params = gradient_params)\n",
    "    search_data = monod.analysis.load_search_data(dir_string+'/'+dataset_names[i]+'/raw.sd')\n",
    "    full_result_string = inference_parameters.fit_all_grid_points(1,search_data)\n",
    "    result_strings_delayed_splicing.append(full_result_string)"
   ]
  },
  {
   "cell_type": "code",
   "execution_count": null,
   "metadata": {},
   "outputs": [],
   "source": [
    "for i in range(n_datasets):\n",
    "    sr = monod.analysis.load_search_results(result_strings_delayed_splicing[i])\n",
    "    sd = monod.analysis.load_search_data(dir_string+'/'+dataset_names[i]+'/raw.sd')\n",
    "    sr.find_sampling_optimum()\n",
    "\n",
    "    sr.plot_gene_distributions(sd,marg='joint')\n",
    "\n",
    "    _=sr.chisquare_testing(sd)\n",
    "\n",
    "#     sr.compute_sigma(sd,num_cores=60)\n",
    "    sr.plot_param_L_dep(plot_errorbars=False,plot_fit=True)\n",
    "    sr.plot_param_marg()\n",
    "    \n",
    "    monod.analysis.make_batch_analysis_dir([sr],dir_string)\n",
    "    sr.update_on_disk()\n",
    "    "
   ]
  },
  {
   "cell_type": "code",
   "execution_count": null,
   "metadata": {},
   "outputs": [],
   "source": [
    "result_strings_ext"
   ]
  },
  {
   "cell_type": "code",
   "execution_count": null,
   "metadata": {},
   "outputs": [],
   "source": [
    "result_strings_burst"
   ]
  },
  {
   "cell_type": "code",
   "execution_count": null,
   "metadata": {},
   "outputs": [],
   "source": [
    "result_strings_delay"
   ]
  },
  {
   "cell_type": "code",
   "execution_count": null,
   "metadata": {},
   "outputs": [],
   "source": [
    "result_strings_delayed_splicing"
   ]
  },
  {
   "cell_type": "code",
   "execution_count": 124,
   "metadata": {},
   "outputs": [],
   "source": [
    "result_strings_ext=[x[:-4]+'_upd.res' for x in result_strings_ext]\n",
    "result_strings_burst=[x[:-4]+'_upd.res' for x in result_strings_burst]\n",
    "result_strings_delay=[x[:-4]+'_upd.res' for x in result_strings_delay]\n",
    "result_strings_delayed_splicing=[x[:-4]+'_upd.res' for x in result_strings_delayed_splicing]\n"
   ]
  },
  {
   "cell_type": "markdown",
   "metadata": {},
   "source": [
    "## Analysis"
   ]
  },
  {
   "cell_type": "code",
   "execution_count": null,
   "metadata": {},
   "outputs": [],
   "source": [
    "sr_arr_full = [[monod.analysis.load_search_results(result_strings_ext[i]),\\\n",
    "                monod.analysis.load_search_results(result_strings_burst[i]),\\\n",
    "                monod.analysis.load_search_results(result_strings_delay[i]),\\\n",
    "                monod.analysis.load_search_results(result_strings_delayed_splicing[i])] for i in range(n_datasets)]"
   ]
  },
  {
   "cell_type": "code",
   "execution_count": null,
   "metadata": {},
   "outputs": [],
   "source": [
    "sd_arr = [monod.analysis.load_search_data(dir_string+'/'+x+'/raw.sd') for x in dataset_names]"
   ]
  },
  {
   "cell_type": "code",
   "execution_count": 127,
   "metadata": {},
   "outputs": [],
   "source": [
    "model_logL = [[sr.get_logL(sd) for sr in x] for x,sd in zip(sr_arr_full,sd_arr)]"
   ]
  },
  {
   "cell_type": "code",
   "execution_count": 128,
   "metadata": {},
   "outputs": [],
   "source": [
    "model_logL = np.asarray(model_logL)"
   ]
  },
  {
   "cell_type": "code",
   "execution_count": 129,
   "metadata": {},
   "outputs": [],
   "source": [
    "model_names=('delayed deg.','extrinsic','delayed splic.')"
   ]
  },
  {
   "cell_type": "code",
   "execution_count": null,
   "metadata": {},
   "outputs": [],
   "source": [
    "fig1,ax1=plt.subplots(2,3,figsize=(12,6))\n",
    "fs=12\n",
    "alf =0.5\n",
    "colors = ('goldenrod','mediumseagreen','darkgray')\n",
    "bw_method=0.05\n",
    "\n",
    "for model_index,mi in enumerate([[2,1],[0,1],[3,1]]):\n",
    "    print(model_names[model_index])\n",
    "    for cluster_index,di in enumerate([[0,3],[1,4],[2,5]]):\n",
    "        print(cluster_names[cluster_index])\n",
    "        \n",
    "        lim = 20\n",
    "        sc_lr=model_logL[di[0],mi[0]] - model_logL[di[0],1]\n",
    "        sc_lr = sc_lr[np.abs(sc_lr)<lim]\n",
    "        sc_kde=scipy.stats.gaussian_kde(sc_lr,bw_method=bw_method)\n",
    "        x = np.linspace(-lim,lim)\n",
    "        ax1[0,model_index].plot(x,sc_kde(x),\\\n",
    "                             label=f'{cluster_names[cluster_index]}',color=colors[cluster_index])\n",
    "        \n",
    "        lim = 20\n",
    "        sn_lr=model_logL[di[1],mi[0]] - model_logL[di[1],1]\n",
    "        sn_lr = sn_lr[np.abs(sn_lr)<lim]\n",
    "        sn_kde=scipy.stats.gaussian_kde(sn_lr,bw_method=bw_method)\n",
    "        x = np.linspace(-lim,lim)\n",
    "        ax1[1,model_index].plot(x,sn_kde(x),\\\n",
    "                             label=f'{cluster_names[cluster_index]}',color=colors[cluster_index])\n",
    "\n",
    "\n",
    "        print((sc_lr<0).mean())\n",
    "        print((sn_lr<0).mean())\n",
    "\n",
    "    for i in range(2):\n",
    "        yl = ax1[i,model_index].get_ylim()\n",
    "        ax1[i,model_index].plot([0,0],yl,'k-',linewidth=.5)\n",
    "        ax1[i,model_index].set_ylim(yl)\n",
    "    ax1[1,model_index].set_xlabel(fr'$\\ln L$({model_names[model_index]}) - $\\ln L$(bursty Markovian)',fontsize=fs)\n",
    "ax1[0,0].set_ylabel('Frequency in whole-cell',fontsize=fs)\n",
    "ax1[1,0].set_ylabel('Frequency in nuclear',fontsize=fs)\n",
    "ax1[0,0].legend()\n",
    "fig1.tight_layout()\n",
    "plt.savefig('./fig/likelihood_ratio_liver.png',dpi=450)"
   ]
  }
 ],
 "metadata": {
  "colab": {
   "collapsed_sections": [],
   "include_colab_link": true,
   "name": "gg220406_refactor.ipynb",
   "provenance": []
  },
  "kernelspec": {
   "display_name": "Python 3",
   "language": "python",
   "name": "python3"
  },
  "language_info": {
   "codemirror_mode": {
    "name": "ipython",
    "version": 3
   },
   "file_extension": ".py",
   "mimetype": "text/x-python",
   "name": "python",
   "nbconvert_exporter": "python",
   "pygments_lexer": "ipython3",
   "version": "3.9.1"
  }
 },
 "nbformat": 4,
 "nbformat_minor": 1
}
