{
 "cells": [
  {
   "cell_type": "markdown",
   "metadata": {},
   "source": [
    "# Liver data preliminary analysis and whitelisting"
   ]
  },
  {
   "cell_type": "markdown",
   "metadata": {},
   "source": [
    "We would like to pseudoalign and use the Andrews human liver data, specifically that for donor 4 (C72). To avoid potential sources of model misspecification, we need to fit individual cell types. More generally, we want to only use the cells with existing annotations. We could pseudoalign everything, but it is considerably easier to just take the existing annotations for C72, and use the barcodes present in the annotations as a whitelist for pseudoalignment. Here, we do not apply knee plot filtering.\n",
    "\n",
    "This notebook constructs these whitelists and inspects the cell type abundances."
   ]
  },
  {
   "cell_type": "code",
   "execution_count": 19,
   "metadata": {},
   "outputs": [],
   "source": [
    "import numpy as np"
   ]
  },
  {
   "cell_type": "markdown",
   "metadata": {},
   "source": [
    "## Metadata extraction"
   ]
  },
  {
   "cell_type": "code",
   "execution_count": 20,
   "metadata": {},
   "outputs": [],
   "source": [
    "meta_str = '/home/ggorin/datasets/liver_andrews/GSE185477_Final_Metadata.txt'"
   ]
  },
  {
   "cell_type": "code",
   "execution_count": 21,
   "metadata": {},
   "outputs": [],
   "source": [
    "import pandas as pd"
   ]
  },
  {
   "cell_type": "code",
   "execution_count": 22,
   "metadata": {},
   "outputs": [],
   "source": [
    "meta = pd.read_csv(meta_str,sep='\\t')"
   ]
  },
  {
   "cell_type": "markdown",
   "metadata": {},
   "source": [
    "There are around 10k cells per dataset."
   ]
  },
  {
   "cell_type": "code",
   "execution_count": 24,
   "metadata": {},
   "outputs": [
    {
     "data": {
      "text/plain": [
       "11219"
      ]
     },
     "execution_count": 24,
     "metadata": {},
     "output_type": "execute_result"
    }
   ],
   "source": [
    "len(meta[meta['sample']=='C72_RESEQ']['cell_barcode'])"
   ]
  },
  {
   "cell_type": "code",
   "execution_count": 25,
   "metadata": {},
   "outputs": [
    {
     "data": {
      "text/plain": [
       "9054"
      ]
     },
     "execution_count": 25,
     "metadata": {},
     "output_type": "execute_result"
    }
   ],
   "source": [
    "len(meta[meta['sample']=='C72_TST']['cell_barcode'])"
   ]
  },
  {
   "cell_type": "markdown",
   "metadata": {},
   "source": [
    "Export whitelists."
   ]
  },
  {
   "cell_type": "code",
   "execution_count": 26,
   "metadata": {},
   "outputs": [],
   "source": [
    "np.savetxt('/home/ggorin/datasets/liver_andrews/sc/whitelist.txt', \\\n",
    "           np.asarray(meta[meta['sample']=='C72_RESEQ']['cell_barcode'],dtype=str),fmt='%16s')\n",
    "np.savetxt('/home/ggorin/datasets/liver_andrews/sn/whitelist.txt', \\\n",
    "           np.asarray(meta[meta['sample']=='C72_TST']['cell_barcode'],dtype=str),fmt='%16s')\n"
   ]
  },
  {
   "cell_type": "markdown",
   "metadata": {},
   "source": [
    "Which cell types are most promising? Pericentral, periportal, and interzonal hepatocyces."
   ]
  },
  {
   "cell_type": "code",
   "execution_count": 29,
   "metadata": {},
   "outputs": [
    {
     "data": {
      "text/plain": [
       "CentralHep       2888\n",
       "PortalHep        2862\n",
       "InterHep         1888\n",
       "cvLSECs           359\n",
       "Stellate          331\n",
       "Cholangiocyte     183\n",
       "NonInfMac         175\n",
       "PortalEndo        146\n",
       "Bcells            107\n",
       "InfMac             63\n",
       "NKTcell            49\n",
       "Erythroid           3\n",
       "Name: Manual_Annotation, dtype: int64"
      ]
     },
     "execution_count": 29,
     "metadata": {},
     "output_type": "execute_result"
    }
   ],
   "source": [
    "meta[meta['sample']=='C72_TST']['Manual_Annotation'].value_counts()"
   ]
  },
  {
   "cell_type": "code",
   "execution_count": 30,
   "metadata": {},
   "outputs": [
    {
     "data": {
      "text/plain": [
       "PortalHep        4523\n",
       "CentralHep       1779\n",
       "cvLSECs          1050\n",
       "InterHep         1046\n",
       "NonInfMac         689\n",
       "Stellate          600\n",
       "NKTcell           472\n",
       "Cholangiocyte     343\n",
       "InfMac            322\n",
       "PortalEndo        226\n",
       "Bcells            167\n",
       "Erythroid           2\n",
       "Name: Manual_Annotation, dtype: int64"
      ]
     },
     "execution_count": 30,
     "metadata": {},
     "output_type": "execute_result"
    }
   ],
   "source": [
    "meta[meta['sample']=='C72_RESEQ']['Manual_Annotation'].value_counts()"
   ]
  }
 ],
 "metadata": {
  "colab": {
   "collapsed_sections": [],
   "include_colab_link": true,
   "name": "gg220406_refactor.ipynb",
   "provenance": []
  },
  "kernelspec": {
   "display_name": "Python 3",
   "language": "python",
   "name": "python3"
  },
  "language_info": {
   "codemirror_mode": {
    "name": "ipython",
    "version": 3
   },
   "file_extension": ".py",
   "mimetype": "text/x-python",
   "name": "python",
   "nbconvert_exporter": "python",
   "pygments_lexer": "ipython3",
   "version": "3.9.1"
  }
 },
 "nbformat": 4,
 "nbformat_minor": 1
}
